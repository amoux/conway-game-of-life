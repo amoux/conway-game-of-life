{
 "cells": [
  {
   "cell_type": "code",
   "execution_count": 1,
   "metadata": {},
   "outputs": [],
   "source": [
    "import conway"
   ]
  },
  {
   "cell_type": "code",
   "execution_count": 2,
   "metadata": {},
   "outputs": [
    {
     "name": "stdout",
     "output_type": "stream",
     "text": [
      "Cell(shape=(5, 5))\n"
     ]
    }
   ],
   "source": [
    "cell = conway.Cell(shape=(5, 5), max_p=3)\n",
    "print(cell)"
   ]
  },
  {
   "cell_type": "code",
   "execution_count": 3,
   "metadata": {},
   "outputs": [
    {
     "data": {
      "text/plain": [
       "{'root': [[0, 0, 1, 0, 0],\n",
       "  [0, 0, 0, 0, 0],\n",
       "  [0, 1, 0, 1, 0],\n",
       "  [0, 1, 0, 1, 0],\n",
       "  [0, 0, 0, 1, 1]],\n",
       " 'hidden': [[0, 0, 0, 0, 0],\n",
       "  [0, 0, 0, 0, 0],\n",
       "  [0, 0, 0, 0, 0],\n",
       "  [0, 0, 0, 0, 0],\n",
       "  [0, 0, 0, 0, 0]]}"
      ]
     },
     "execution_count": 3,
     "metadata": {},
     "output_type": "execute_result"
    }
   ],
   "source": [
    "cell.grids()"
   ]
  },
  {
   "cell_type": "code",
   "execution_count": 9,
   "metadata": {},
   "outputs": [
    {
     "name": "stdout",
     "output_type": "stream",
     "text": [
      "\b\tstep: 29, alive: 2, dead: 6\n",
      "\r",
      "⚫⚫⚫⚫⚫⚫⚫⚫⚫⚫⚫⚫⚫⚫⚫⚫⚫⚫⚫⚫\n",
      "\r",
      "⚫⚫⚫⚫⚫⚫⚫⚫⚫⚫⚫⚫⚫⚫⚫⚫⚫⚫⚫⚫\n",
      "\r",
      "⚫⚫⚫⚫⚫⚫♒⚫⚫⚫⚫⚫⚫⚫⚫⚫⚫⚫⚫⚫\n",
      "\r",
      "⚫⚫⚫⚫⚫♒♒♒⚫⚫⚫⚫⚫⚫⚫⚫⚫⚫⚫⚫\n",
      "\r",
      "⚫⚫⚫⚫♒⚫⚫♒♒⚫⚫⚫⚫⚫⚫⚫⚫⚫⚫⚫\n",
      "\r",
      "⚫⚫⚫♒♒⚫⚫⚫♒⚫⚫⚫⚫⚫⚫⚫⚫⚫⚫⚫\n",
      "\r",
      "⚫⚫⚫⚫♒⚫♒♒⚫⚫⚫⚫⚫⚫⚫⚫⚫⚫⚫⚫\n",
      "\r",
      "⚫⚫⚫⚫⚫⚫♒♒⚫⚫⚫⚫⚫⚫⚫⚫⚫⚫⚫⚫\n",
      "\r",
      "⚫⚫⚫⚫⚫⚫⚫⚫⚫⚫⚫⚫⚫⚫⚫⚫⚫⚫⚫⚫\n",
      "\r",
      "⚫⚫⚫⚫⚫⚫⚫⚫⚫⚫⚫⚫⚫⚫⚫⚫⚫⚫⚫⚫\n",
      "\r",
      "⚫⚫⚫⚫⚫⚫♒♒⚫⚫⚫⚫⚫⚫⚫⚫⚫⚫⚫⚫\n",
      "\r",
      "⚫⚫⚫⚫⚫♒⚫⚫⚫⚫♒♒⚫⚫⚫⚫⚫⚫⚫⚫\n",
      "\r",
      "⚫⚫⚫⚫⚫⚫♒♒♒♒⚫♒⚫⚫⚫⚫⚫⚫⚫⚫\n",
      "\r",
      "⚫⚫⚫⚫⚫⚫⚫⚫⚫⚫♒⚫⚫⚫⚫⚫⚫⚫⚫⚫\n",
      "\r",
      "⚫⚫⚫⚫⚫⚫⚫⚫⚫⚫⚫⚫⚫⚫⚫⚫⚫⚫⚫⚫\n",
      "\r",
      "⚫⚫⚫⚫⚫⚫⚫⚫⚫⚫⚫⚫⚫⚫⚫⚫⚫⚫⚫⚫\n",
      "\r",
      "⚫⚫⚫⚫⚫⚫⚫⚫⚫⚫⚫⚫⚫⚫⚫⚫⚫♒♒⚫\n",
      "\r",
      "⚫⚫⚫⚫⚫⚫⚫⚫⚫⚫⚫⚫⚫⚫⚫⚫♒⚫⚫♒\n",
      "\r",
      "⚫⚫⚫⚫⚫⚫⚫⚫⚫⚫⚫⚫⚫⚫⚫⚫♒⚫⚫♒\n",
      "\r",
      "⚫⚫⚫⚫⚫⚫⚫⚫⚫⚫⚫⚫⚫⚫⚫⚫⚫♒♒⚫\n",
      "\r",
      " "
     ]
    }
   ],
   "source": [
    "S = \"step: {}, alive: {}, dead: {}\"\n",
    "\n",
    "num_steps = 30\n",
    "cell = conway.Cell(shape=(20, 20), max_p=5)\n",
    "\n",
    "for step in range(num_steps):\n",
    "    cell.forward()    \n",
    "    conway.render_jupyter(\n",
    "        cell=cell,\n",
    "        state='hidden',\n",
    "        cellcolor='purple',\n",
    "        gridcolor='black',\n",
    "        stats=S.format(step, cell.nn.alive, cell.nn.dead)\n",
    "    )\n",
    "    conway.time.sleep(1/10)"
   ]
  },
  {
   "cell_type": "code",
   "execution_count": 18,
   "metadata": {},
   "outputs": [
    {
     "name": "stdout",
     "output_type": "stream",
     "text": [
      "CellBatch(batch_size=2)\n"
     ]
    }
   ],
   "source": [
    "batch = conway.CellBatch([\n",
    "    conway.Cell(shape=(14, 17), max_p=3),\n",
    "    conway.Cell(shape=(15, 20), max_p=1)\n",
    "])\n",
    "print(batch)"
   ]
  },
  {
   "cell_type": "code",
   "execution_count": 19,
   "metadata": {},
   "outputs": [
    {
     "data": {
      "text/plain": [
       "[Cell(shape=(14, 17)), Cell(shape=(15, 20))]"
      ]
     },
     "execution_count": 19,
     "metadata": {},
     "output_type": "execute_result"
    }
   ],
   "source": [
    "list(batch)"
   ]
  },
  {
   "cell_type": "code",
   "execution_count": 20,
   "metadata": {},
   "outputs": [
    {
     "name": "stdout",
     "output_type": "stream",
     "text": [
      "cell_0 (14, 17) [0, 0, 0, 0, 0, 0, 0, 0, 0, 0, 0, 0, 0, 0, 0, 0, 0]\n",
      "cell_1 (15, 20) [0, 0, 0, 0, 0, 0, 0, 0, 0, 0, 0, 0, 0, 0, 0, 0, 0, 0, 0, 0]\n"
     ]
    }
   ],
   "source": [
    "for C in batch:\n",
    "    print(C.id, C.shape, C.hidden[0])"
   ]
  },
  {
   "cell_type": "code",
   "execution_count": null,
   "metadata": {},
   "outputs": [
    {
     "name": "stdout",
     "output_type": "stream",
     "text": [
      "\b\tSteps: 24\n",
      "\r",
      "⚫⚫🔴⚫⚫⚫🔴⚫⚫⚫⚫⚫⚫⚫⚫⚫⚫⚫⚫⚫\n",
      "\r",
      "🔴🔴⚫⚫⚫⚫⚫🔴🔴⚫⚫⚫⚫⚫⚫⚫⚫⚫⚫⚫\n",
      "\r",
      "⚫⚫⚫⚫🔴⚫⚫⚫⚫🔴⚫⚫⚫⚫⚫⚫⚫⚫⚫🔴\n",
      "\r",
      "⚫⚫⚫🔴⚫🔴⚫⚫⚫🔴⚫⚫⚫⚫⚫⚫⚫⚫⚫🔴\n",
      "\r",
      "⚫⚫⚫⚫🔴⚫⚫⚫⚫🔴⚫⚫⚫⚫⚫⚫⚫⚫⚫🔴\n",
      "\r",
      "🔴🔴⚫⚫⚫⚫⚫🔴🔴⚫⚫⚫⚫⚫⚫⚫⚫⚫⚫⚫\n",
      "\r",
      "⚫⚫🔴⚫⚫⚫🔴⚫⚫⚫⚫⚫⚫⚫⚫⚫⚫⚫⚫⚫\n",
      "\r",
      "⚫⚫🔴⚫⚫⚫🔴⚫⚫⚫⚫⚫⚫⚫⚫⚫⚫⚫⚫⚫\n",
      "\r",
      "⚫⚫⚫🔴🔴🔴⚫⚫⚫⚫⚫⚫⚫⚫⚫🔴⚫⚫⚫🔴\n",
      "\r",
      "⚫⚫⚫⚫⚫⚫⚫⚫⚫⚫⚫⚫⚫⚫⚫🔴⚫⚫🔴⚫\n",
      "\r",
      "⚫⚫⚫⚫⚫⚫⚫⚫⚫⚫⚫⚫⚫⚫⚫⚫🔴⚫🔴⚫\n",
      "\r",
      "⚫⚫⚫⚫⚫⚫⚫⚫⚫⚫⚫⚫⚫⚫⚫⚫⚫🔴⚫⚫\n",
      "\r",
      "⚫⚫⚫⚫⚫⚫⚫⚫⚫⚫⚫⚫⚫⚫⚫⚫⚫⚫⚫⚫\n",
      "\r",
      "⚫⚫⚫🔴🔴🔴⚫⚫⚫⚫⚫⚫⚫⚫⚫⚫⚫⚫⚫⚫\n",
      "\r",
      "⚫⚫🔴⚫⚫⚫🔴⚫⚫⚫⚫⚫⚫⚫⚫⚫⚫⚫⚫⚫\n",
      "\r",
      " "
     ]
    }
   ],
   "source": [
    "max_steps = 60\n",
    "for C in batch:\n",
    "    step = 0\n",
    "    while step < max_steps:\n",
    "        C.forward()\n",
    "        conway.render_jupyter(cell=C, step=step)\n",
    "        conway.time.sleep(1/10)\n",
    "        step += 1"
   ]
  },
  {
   "cell_type": "code",
   "execution_count": null,
   "metadata": {},
   "outputs": [],
   "source": []
  }
 ],
 "metadata": {
  "kernelspec": {
   "display_name": "Python 3",
   "language": "python",
   "name": "python3"
  },
  "language_info": {
   "codemirror_mode": {
    "name": "ipython",
    "version": 3
   },
   "file_extension": ".py",
   "mimetype": "text/x-python",
   "name": "python",
   "nbconvert_exporter": "python",
   "pygments_lexer": "ipython3",
   "version": "3.7.7"
  },
  "varInspector": {
   "cols": {
    "lenName": 16,
    "lenType": 16,
    "lenVar": 40
   },
   "kernels_config": {
    "python": {
     "delete_cmd_postfix": "",
     "delete_cmd_prefix": "del ",
     "library": "var_list.py",
     "varRefreshCmd": "print(var_dic_list())"
    },
    "r": {
     "delete_cmd_postfix": ") ",
     "delete_cmd_prefix": "rm(",
     "library": "var_list.r",
     "varRefreshCmd": "cat(var_dic_list()) "
    }
   },
   "types_to_exclude": [
    "module",
    "function",
    "builtin_function_or_method",
    "instance",
    "_Feature"
   ],
   "window_display": false
  }
 },
 "nbformat": 4,
 "nbformat_minor": 4
}
