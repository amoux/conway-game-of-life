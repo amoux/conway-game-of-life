{
 "cells": [
  {
   "cell_type": "code",
   "execution_count": 1,
   "metadata": {},
   "outputs": [],
   "source": [
    "import conway"
   ]
  },
  {
   "cell_type": "code",
   "execution_count": 2,
   "metadata": {},
   "outputs": [
    {
     "name": "stdout",
     "output_type": "stream",
     "text": [
      "Cell(shape=(5, 5))\n"
     ]
    }
   ],
   "source": [
    "cell = conway.Cell(shape=(5, 5), probe=3)\n",
    "print(cell)"
   ]
  },
  {
   "cell_type": "code",
   "execution_count": 3,
   "metadata": {},
   "outputs": [
    {
     "data": {
      "text/plain": [
       "{'root': [[0, 0, 0, 1, 0],\n",
       "  [0, 0, 1, 0, 0],\n",
       "  [0, 0, 0, 0, 0],\n",
       "  [0, 0, 1, 0, 0],\n",
       "  [0, 0, 1, 0, 0]],\n",
       " 'hidden': [[0, 0, 0, 0, 0],\n",
       "  [0, 0, 0, 0, 0],\n",
       "  [0, 0, 0, 0, 0],\n",
       "  [0, 0, 0, 0, 0],\n",
       "  [0, 0, 0, 0, 0]]}"
      ]
     },
     "execution_count": 3,
     "metadata": {},
     "output_type": "execute_result"
    }
   ],
   "source": [
    "cell.grids()"
   ]
  },
  {
   "cell_type": "code",
   "execution_count": 23,
   "metadata": {},
   "outputs": [
    {
     "name": "stdout",
     "output_type": "stream",
     "text": [
      "steps: 49, born: 31, killed: 326, survived: 143\n",
      "\r",
      "⚫⚫⚫⚫⚫⚫🔴🔴🔴⚫⚫⚫⚫⚫🔴🔴⚫⚫⚫⚫⚫⚫⚫⚫⚫\n",
      "\r",
      "⚫⚫⚫🔴⚫⚫⚫⚫⚫🔴⚫⚫⚫⚫⚫⚫⚫⚫⚫⚫⚫⚫⚫⚫⚫\n",
      "\r",
      "⚫⚫⚫⚫🔴⚫⚫⚫⚫⚫🔴⚫⚫⚫⚫⚫⚫⚫⚫⚫⚫⚫⚫⚫⚫\n",
      "\r",
      "⚫⚫⚫⚫⚫⚫⚫🔴⚫⚫⚫⚫⚫⚫⚫⚫⚫⚫⚫⚫⚫⚫⚫⚫⚫\n",
      "\r",
      "⚫⚫⚫⚫⚫⚫⚫⚫🔴⚫⚫🔴⚫⚫⚫⚫⚫⚫⚫⚫⚫⚫⚫⚫⚫\n",
      "\r",
      "⚫⚫⚫⚫⚫⚫⚫🔴⚫⚫⚫⚫🔴⚫⚫🔴🔴🔴⚫⚫⚫⚫⚫⚫🔴\n",
      "\r",
      "⚫⚫⚫🔴⚫⚫⚫⚫⚫🔴🔴⚫⚫⚫⚫⚫🔴⚫⚫⚫⚫🔴⚫⚫🔴\n",
      "\r",
      "⚫⚫⚫⚫🔴⚫⚫⚫⚫⚫⚫⚫⚫⚫⚫⚫⚫⚫🔴🔴⚫🔴⚫🔴⚫\n",
      "\r",
      "⚫⚫⚫⚫🔴⚫⚫⚫⚫⚫⚫⚫⚫⚫⚫🔴🔴⚫🔴🔴⚫⚫🔴⚫🔴\n",
      "\r",
      "⚫⚫⚫⚫🔴⚫⚫⚫⚫⚫⚫⚫⚫⚫⚫⚫⚫⚫🔴⚫⚫🔴⚫🔴🔴\n",
      "\r",
      "⚫⚫⚫🔴⚫⚫⚫⚫⚫⚫⚫⚫⚫⚫⚫⚫🔴🔴⚫⚫⚫🔴⚫⚫⚫\n",
      "\r",
      "⚫⚫🔴⚫⚫⚫⚫⚫⚫⚫⚫⚫⚫🔴🔴⚫🔴🔴⚫⚫⚫⚫⚫⚫⚫\n",
      "\r",
      "⚫⚫⚫⚫⚫⚫⚫⚫🔴⚫⚫⚫⚫⚫⚫⚫⚫⚫⚫⚫⚫⚫⚫⚫⚫\n",
      "\r",
      "⚫⚫⚫⚫⚫⚫⚫🔴🔴⚫⚫⚫⚫⚫⚫⚫⚫⚫⚫⚫⚫⚫⚫⚫⚫\n",
      "\r",
      "⚫🔴🔴⚫⚫⚫⚫🔴⚫⚫⚫🔴⚫⚫⚫⚫⚫⚫⚫⚫🔴🔴⚫⚫⚫\n",
      "\r",
      "🔴⚫🔴⚫⚫⚫⚫⚫🔴🔴⚫🔴⚫⚫⚫⚫⚫⚫⚫🔴⚫🔴⚫⚫⚫\n",
      "\r",
      "⚫🔴⚫⚫⚫⚫⚫⚫🔴🔴⚫⚫⚫⚫⚫⚫⚫⚫🔴⚫🔴⚫⚫⚫⚫\n",
      "\r",
      "⚫⚫🔴🔴⚫⚫⚫⚫⚫⚫⚫⚫⚫⚫⚫⚫⚫⚫⚫🔴⚫⚫⚫⚫⚫\n",
      "\r",
      "⚫⚫⚫🔴🔴⚫⚫⚫⚫⚫⚫⚫⚫⚫⚫⚫⚫⚫⚫⚫⚫⚫⚫⚫⚫\n",
      "\r",
      "⚫⚫🔴⚫🔴🔴🔴⚫⚫⚫⚫⚫⚫⚫🔴🔴⚫⚫⚫⚫⚫⚫⚫⚫⚫\n",
      "\r",
      " "
     ]
    }
   ],
   "source": [
    "steps = 50\n",
    "C = conway.Cell(shape=(20, 25), probe=3)\n",
    "for t in range(steps):\n",
    "    stats = C.forward()\n",
    "    conway.render_jupyter(C, t, stats)\n",
    "    conway.fps(10)"
   ]
  },
  {
   "cell_type": "code",
   "execution_count": 5,
   "metadata": {},
   "outputs": [
    {
     "name": "stdout",
     "output_type": "stream",
     "text": [
      "CellBatch(batch_size=2)\n"
     ]
    }
   ],
   "source": [
    "batch = conway.CellBatch([\n",
    "    conway.Cell(shape=(14, 17), probe=3),\n",
    "    conway.Cell(shape=(15, 24), probe=1),\n",
    "])\n",
    "print(batch)"
   ]
  },
  {
   "cell_type": "code",
   "execution_count": 6,
   "metadata": {},
   "outputs": [
    {
     "data": {
      "text/plain": [
       "[Cell(shape=(14, 17)), Cell(shape=(15, 24))]"
      ]
     },
     "execution_count": 6,
     "metadata": {},
     "output_type": "execute_result"
    }
   ],
   "source": [
    "list(batch)"
   ]
  },
  {
   "cell_type": "code",
   "execution_count": 7,
   "metadata": {},
   "outputs": [
    {
     "name": "stdout",
     "output_type": "stream",
     "text": [
      "cell_0 (14, 17) [0, 0, 0, 0, 0, 0, 0, 0, 0, 0, 0, 0, 0, 0, 0, 0, 0]\n",
      "cell_1 (15, 24) [0, 0, 0, 0, 0, 0, 0, 0, 0, 0, 0, 0, 0, 0, 0, 0, 0, 0, 0, 0, 0, 0, 0, 0]\n"
     ]
    }
   ],
   "source": [
    "for C in batch:\n",
    "    print(C.id, C.shape, C.hidden[0])"
   ]
  },
  {
   "cell_type": "code",
   "execution_count": 8,
   "metadata": {},
   "outputs": [
    {
     "name": "stdout",
     "output_type": "stream",
     "text": [
      "steps: 49, born: 0, killed: 316, survived: 44\n",
      "\r",
      "⚫⚫⚫⚫⚫⚫⚫⚫⚫⚫⚫⚫⚫⚫⚫⚫⚫⚫⚫⚫⚫⚫⚫⚫\n",
      "\r",
      "⚫⚫⚫⚫⚫⚫⚫⚫⚫⚫⚫⚫⚫⚫⚫⚫⚫⚫⚫⚫⚫⚫⚫⚫\n",
      "\r",
      "⚫⚫⚫⚫⚫⚫⚫⚫⚫⚫⚫⚫⚫⚫⚫⚫⚫⚫⚫⚫🟡🟡⚫⚫\n",
      "\r",
      "⚫⚫⚫⚫⚫⚫⚫⚫⚫⚫⚫⚫⚫⚫⚫⚫⚫⚫⚫⚫🟡🟡⚫⚫\n",
      "\r",
      "⚫⚫⚫⚫⚫⚫⚫⚫⚫⚫⚫⚫⚫⚫⚫⚫⚫⚫⚫⚫⚫⚫⚫⚫\n",
      "\r",
      "⚫⚫⚫⚫⚫⚫⚫⚫⚫⚫⚫⚫⚫⚫⚫⚫🟡⚫⚫⚫⚫⚫⚫⚫\n",
      "\r",
      "⚫⚫⚫⚫⚫⚫⚫⚫⚫⚫⚫⚫⚫⚫⚫🟡⚫🟡⚫⚫⚫⚫⚫⚫\n",
      "\r",
      "⚫⚫⚫⚫⚫⚫⚫⚫⚫⚫⚫⚫⚫⚫⚫🟡⚫⚫🟡⚫⚫⚫⚫⚫\n",
      "\r",
      "⚫⚫⚫⚫⚫⚫⚫⚫⚫⚫⚫⚫⚫⚫⚫⚫🟡🟡⚫⚫⚫⚫⚫⚫\n",
      "\r",
      "⚫⚫⚫⚫⚫⚫⚫⚫⚫⚫⚫⚫⚫⚫⚫⚫⚫⚫⚫⚫⚫⚫⚫⚫\n",
      "\r",
      "⚫⚫⚫⚫⚫⚫⚫⚫⚫⚫⚫⚫⚫⚫⚫⚫⚫⚫⚫⚫⚫⚫⚫⚫\n",
      "\r",
      "⚫⚫⚫⚫⚫⚫⚫⚫⚫⚫⚫⚫⚫⚫⚫⚫⚫⚫⚫⚫⚫⚫⚫⚫\n",
      "\r",
      "⚫⚫⚫⚫⚫⚫🟡🟡⚫⚫⚫⚫⚫⚫⚫⚫⚫⚫⚫⚫⚫⚫⚫⚫\n",
      "\r",
      "⚫⚫⚫⚫⚫🟡⚫🟡⚫⚫⚫⚫⚫⚫⚫⚫⚫⚫⚫⚫⚫⚫⚫⚫\n",
      "\r",
      "⚫⚫⚫⚫⚫🟡🟡⚫⚫⚫⚫⚫⚫⚫⚫⚫⚫⚫⚫⚫⚫⚫⚫⚫\n",
      "\r",
      " "
     ]
    }
   ],
   "source": [
    "max_steps = 50\n",
    "for C in batch:\n",
    "    t = 0\n",
    "    while t < max_steps:\n",
    "        stats = C.forward()\n",
    "        conway.render_jupyter(C, t, stats, ccolor='cy')\n",
    "        conway.fps(10)\n",
    "        t += 1"
   ]
  },
  {
   "cell_type": "markdown",
   "metadata": {},
   "source": [
    "> One way to get a new `conway.game.Cell` object if a generation *stalls*"
   ]
  },
  {
   "cell_type": "code",
   "execution_count": 20,
   "metadata": {},
   "outputs": [
    {
     "name": "stdout",
     "output_type": "stream",
     "text": [
      "steps: 99, born: 6, killed: 364, survived: 55\n",
      "\r",
      "⚫⚫⚫⚫⚫⚫⚫⚫⚫⚫⚫⚫⚫⚫⚫⚫⚫⚫⚫⚫⚫⚫⚫⚫⚫\n",
      "\r",
      "⚫⚫⚫⚫⚫⚫⚫⚫⚫⚫⚫⚫⚫⚫⚫⚫⚫⚫⚫⚫⚫⚫⚫⚫⚫\n",
      "\r",
      "⚫⚫⚫⚫⚫⚫⚫⚫⚫⚫⚫⚫⚫⚫⚫⚫⚫⚫⚫⚫⚫⚫⚫⚫⚫\n",
      "\r",
      "⚫⚫⚫⚫⚫⚫⚫⚫⚫⚫⚫⚫⚫⚫🟠🟠⚫⚫⚫⚫⚫⚫⚫⚫⚫\n",
      "\r",
      "⚫⚫⚫⚫⚫⚫⚫⚫⚫⚫⚫⚫⚫⚫🟠🟠⚫⚫⚫⚫⚫⚫⚫⚫⚫\n",
      "\r",
      "⚫⚫⚫⚫⚫⚫⚫⚫⚫⚫⚫⚫⚫⚫⚫⚫⚫⚫⚫⚫⚫⚫⚫⚫⚫\n",
      "\r",
      "⚫⚫⚫⚫⚫⚫⚫⚫⚫⚫⚫⚫⚫⚫⚫⚫⚫⚫⚫⚫⚫⚫⚫⚫⚫\n",
      "\r",
      "⚫⚫⚫⚫⚫⚫⚫⚫⚫⚫⚫⚫⚫⚫⚫⚫⚫🟠⚫⚫⚫⚫⚫⚫⚫\n",
      "\r",
      "⚫⚫⚫⚫⚫⚫⚫⚫⚫⚫⚫⚫⚫⚫⚫⚫🟠🟠⚫⚫⚫⚫⚫⚫⚫\n",
      "\r",
      "⚫⚫⚫⚫⚫⚫🟠🟠⚫⚫⚫⚫🟠🟠🟠🟠⚫⚫🟠⚫⚫⚫⚫⚫⚫\n",
      "\r",
      "⚫⚫⚫⚫⚫⚫🟠🟠⚫⚫⚫⚫⚫🟠🟠⚫🟠⚫⚫⚫⚫⚫⚫⚫⚫\n",
      "\r",
      "⚫⚫🟠🟠⚫⚫⚫⚫⚫⚫⚫⚫⚫⚫🟠⚫🟠🟠⚫⚫⚫⚫⚫⚫⚫\n",
      "\r",
      "⚫🟠⚫⚫🟠⚫⚫⚫⚫⚫⚫⚫⚫⚫⚫⚫⚫⚫⚫⚫⚫⚫⚫⚫⚫\n",
      "\r",
      "⚫⚫🟠🟠⚫⚫⚫⚫⚫⚫⚫⚫⚫⚫⚫⚫⚫⚫⚫⚫⚫⚫⚫⚫⚫\n",
      "\r",
      "⚫⚫⚫⚫⚫⚫⚫⚫⚫⚫⚫⚫⚫⚫⚫⚫⚫⚫⚫⚫⚫⚫⚫⚫⚫\n",
      "\r",
      "⚫⚫⚫⚫⚫⚫⚫⚫⚫⚫⚫⚫⚫⚫⚫⚫⚫⚫⚫⚫⚫⚫⚫⚫⚫\n",
      "\r",
      "⚫⚫⚫⚫⚫⚫⚫⚫⚫⚫⚫⚫⚫⚫⚫⚫⚫⚫⚫⚫⚫⚫⚫⚫⚫\n",
      "\r",
      " "
     ]
    }
   ],
   "source": [
    "C = conway.Cell(shape=(17, 25), probe=5)\n",
    "steps = 100\n",
    "past = 0\n",
    "ccolor = 'cr'\n",
    "# Render a color per generation.\n",
    "colors = iter(conway.C_COLORS.keys())\n",
    "\n",
    "for t in range(steps):\n",
    "    stats = C.forward()\n",
    "    conway.render_jupyter(C, t, stats, ccolor=ccolor)\n",
    "    conway.fps(10)\n",
    "    if t > 1 and past == stats.born:\n",
    "        C, ccolor = C.reset(), next(colors)\n",
    "    past = stats.born"
   ]
  },
  {
   "cell_type": "code",
   "execution_count": 10,
   "metadata": {},
   "outputs": [],
   "source": [
    "# One way to add your own custom colors/emoji'\n",
    "minesweeper = {'c_mw': '🚩', 'g_mw': '🔲'}\n",
    "conway.C_COLORS.update(minesweeper)"
   ]
  },
  {
   "cell_type": "code",
   "execution_count": 17,
   "metadata": {},
   "outputs": [
    {
     "name": "stdout",
     "output_type": "stream",
     "text": [
      "steps: 49, born: 8, killed: 307, survived: 60\n",
      "\r",
      "🔲🔲🚩🚩🚩🔲🔲🔲🔲🔲🔲🔲🔲🔲🔲🔲🔲🔲🔲🚩🔲🔲🚩🔲🔲\n",
      "\r",
      "🔲🔲🔲🔲🔲🔲🔲🔲🔲🔲🔲🔲🔲🔲🔲🔲🔲🔲🔲🔲🚩🚩🔲🔲🔲\n",
      "\r",
      "🚩🔲🔲🔲🔲🔲🚩🔲🔲🔲🔲🔲🔲🔲🔲🔲🔲🔲🔲🔲🔲🔲🔲🔲🔲\n",
      "\r",
      "🚩🔲🔲🔲🔲🔲🚩🔲🔲🔲🔲🔲🔲🔲🔲🔲🔲🔲🔲🔲🔲🔲🔲🔲🔲\n",
      "\r",
      "🚩🔲🔲🔲🔲🔲🚩🔲🔲🔲🔲🔲🔲🔲🔲🔲🔲🚩🔲🔲🔲🔲🔲🔲🔲\n",
      "\r",
      "🔲🔲🔲🔲🔲🔲🔲🔲🔲🔲🔲🔲🔲🔲🔲🔲🚩🔲🚩🔲🔲🔲🔲🔲🔲\n",
      "\r",
      "🔲🔲🚩🚩🚩🔲🔲🔲🔲🔲🔲🔲🔲🔲🔲🔲🔲🚩🔲🔲🔲🔲🔲🔲🔲\n",
      "\r",
      "🔲🔲🔲🔲🔲🔲🔲🔲🔲🔲🔲🔲🔲🔲🔲🔲🔲🔲🔲🔲🔲🔲🔲🔲🔲\n",
      "\r",
      "🔲🔲🔲🔲🔲🔲🔲🔲🔲🔲🔲🔲🔲🔲🔲🔲🔲🔲🔲🔲🔲🔲🔲🔲🔲\n",
      "\r",
      "🔲🔲🔲🔲🔲🔲🔲🚩🚩🔲🔲🔲🔲🔲🔲🔲🔲🔲🔲🔲🔲🔲🔲🔲🔲\n",
      "\r",
      "🔲🔲🔲🔲🔲🔲🔲🚩🚩🔲🔲🔲🔲🔲🔲🔲🔲🔲🔲🔲🔲🔲🔲🔲🔲\n",
      "\r",
      "🔲🔲🔲🔲🔲🔲🔲🔲🔲🔲🔲🔲🔲🔲🔲🔲🔲🔲🔲🔲🔲🔲🔲🔲🔲\n",
      "\r",
      "🔲🔲🔲🔲🔲🔲🔲🔲🔲🔲🔲🔲🔲🔲🔲🔲🔲🔲🔲🔲🔲🔲🔲🔲🔲\n",
      "\r",
      "🔲🔲🔲🔲🔲🔲🔲🔲🔲🔲🔲🔲🔲🔲🔲🔲🔲🔲🔲🔲🔲🚩🔲🔲🔲\n",
      "\r",
      "🔲🔲🔲🔲🔲🔲🔲🔲🔲🔲🔲🔲🔲🔲🔲🔲🔲🔲🔲🔲🚩🔲🚩🔲🔲\n",
      "\r",
      " "
     ]
    }
   ],
   "source": [
    "C = conway.Cell(shape=(15, 25), probe=3)\n",
    "for t in range(50):\n",
    "    stats = C.forward()\n",
    "    conway.render_jupyter(C, t, stats, ccolor='c_mw', gcolor='g_mw')\n",
    "    conway.fps(10)"
   ]
  },
  {
   "cell_type": "code",
   "execution_count": null,
   "metadata": {},
   "outputs": [],
   "source": []
  }
 ],
 "metadata": {
  "kernelspec": {
   "display_name": "Python 3",
   "language": "python",
   "name": "python3"
  },
  "language_info": {
   "codemirror_mode": {
    "name": "ipython",
    "version": 3
   },
   "file_extension": ".py",
   "mimetype": "text/x-python",
   "name": "python",
   "nbconvert_exporter": "python",
   "pygments_lexer": "ipython3",
   "version": "3.7.7"
  },
  "varInspector": {
   "cols": {
    "lenName": 16,
    "lenType": 16,
    "lenVar": 40
   },
   "kernels_config": {
    "python": {
     "delete_cmd_postfix": "",
     "delete_cmd_prefix": "del ",
     "library": "var_list.py",
     "varRefreshCmd": "print(var_dic_list())"
    },
    "r": {
     "delete_cmd_postfix": ") ",
     "delete_cmd_prefix": "rm(",
     "library": "var_list.r",
     "varRefreshCmd": "cat(var_dic_list()) "
    }
   },
   "types_to_exclude": [
    "module",
    "function",
    "builtin_function_or_method",
    "instance",
    "_Feature"
   ],
   "window_display": false
  }
 },
 "nbformat": 4,
 "nbformat_minor": 4
}
