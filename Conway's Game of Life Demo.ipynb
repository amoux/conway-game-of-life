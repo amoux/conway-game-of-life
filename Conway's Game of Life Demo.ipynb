{
 "cells": [
  {
   "cell_type": "code",
   "execution_count": 1,
   "metadata": {},
   "outputs": [],
   "source": [
    "import conway"
   ]
  },
  {
   "cell_type": "code",
   "execution_count": 3,
   "metadata": {},
   "outputs": [
    {
     "name": "stdout",
     "output_type": "stream",
     "text": [
      "Cell(shape=(5, 5))\n"
     ]
    }
   ],
   "source": [
    "cell = conway.Cell(shape=(5, 5), probe=3)\n",
    "print(cell)"
   ]
  },
  {
   "cell_type": "code",
   "execution_count": 4,
   "metadata": {},
   "outputs": [
    {
     "data": {
      "text/plain": [
       "{'root': [[0, 0, 1, 0, 0],\n",
       "  [0, 0, 0, 0, 1],\n",
       "  [0, 0, 1, 0, 0],\n",
       "  [0, 1, 0, 0, 1],\n",
       "  [0, 0, 0, 0, 1]],\n",
       " 'hidden': [[0, 0, 0, 0, 0],\n",
       "  [0, 0, 0, 0, 0],\n",
       "  [0, 0, 0, 0, 0],\n",
       "  [0, 0, 0, 0, 0],\n",
       "  [0, 0, 0, 0, 0]]}"
      ]
     },
     "execution_count": 4,
     "metadata": {},
     "output_type": "execute_result"
    }
   ],
   "source": [
    "cell.grids()"
   ]
  },
  {
   "cell_type": "code",
   "execution_count": 37,
   "metadata": {},
   "outputs": [
    {
     "name": "stdout",
     "output_type": "stream",
     "text": [
      "steps: 49, born: 0, killed: 440, survived: 60\n",
      "\r",
      "⚫⚫⚫⚫⚫⚫⚫⚫⚫⚫⚫⚫⚫⚫⚫⚫⚫⚫⚫⚫⚫🟡⚫🟡⚫\n",
      "\r",
      "⚫⚫⚫⚫⚫⚫⚫⚫⚫⚫⚫⚫⚫⚫⚫⚫⚫⚫⚫⚫🟡⚫⚫🟡⚫\n",
      "\r",
      "⚫⚫⚫⚫⚫⚫⚫⚫⚫⚫⚫⚫⚫⚫⚫⚫⚫⚫⚫⚫⚫🟡🟡⚫⚫\n",
      "\r",
      "⚫⚫⚫⚫⚫⚫⚫⚫⚫⚫⚫⚫⚫⚫⚫⚫⚫⚫⚫⚫⚫⚫⚫⚫⚫\n",
      "\r",
      "⚫⚫⚫⚫⚫⚫⚫⚫⚫⚫⚫⚫⚫⚫⚫⚫⚫⚫⚫⚫⚫⚫⚫⚫⚫\n",
      "\r",
      "⚫⚫⚫⚫⚫⚫⚫⚫⚫⚫⚫⚫⚫⚫⚫⚫⚫⚫⚫⚫⚫⚫⚫⚫⚫\n",
      "\r",
      "⚫⚫⚫⚫⚫⚫⚫⚫⚫⚫⚫⚫⚫⚫⚫⚫⚫⚫⚫⚫⚫⚫⚫⚫⚫\n",
      "\r",
      "⚫⚫⚫⚫⚫⚫⚫⚫⚫⚫⚫⚫⚫⚫⚫🟡🟡⚫⚫⚫⚫⚫⚫⚫⚫\n",
      "\r",
      "⚫⚫⚫⚫⚫⚫⚫⚫⚫⚫⚫⚫⚫⚫⚫🟡🟡⚫⚫⚫⚫⚫⚫⚫⚫\n",
      "\r",
      "⚫⚫⚫⚫⚫⚫⚫⚫⚫⚫⚫⚫⚫⚫⚫⚫⚫⚫⚫⚫⚫⚫⚫⚫⚫\n",
      "\r",
      "⚫⚫⚫⚫⚫⚫⚫⚫⚫⚫⚫⚫⚫⚫⚫⚫⚫⚫⚫⚫⚫⚫⚫⚫⚫\n",
      "\r",
      "⚫⚫⚫⚫⚫⚫⚫⚫⚫🟡🟡⚫⚫⚫⚫⚫⚫⚫⚫⚫⚫⚫⚫⚫⚫\n",
      "\r",
      "⚫⚫⚫⚫⚫⚫⚫⚫🟡⚫⚫🟡⚫⚫⚫⚫⚫⚫⚫⚫⚫⚫⚫⚫⚫\n",
      "\r",
      "⚫⚫⚫⚫⚫⚫⚫⚫🟡⚫⚫🟡⚫⚫⚫⚫⚫⚫⚫⚫⚫⚫⚫⚫⚫\n",
      "\r",
      "⚫⚫⚫⚫⚫⚫⚫⚫⚫🟡🟡⚫⚫⚫⚫⚫⚫⚫⚫⚫⚫⚫⚫⚫⚫\n",
      "\r",
      "⚫⚫⚫⚫⚫⚫⚫⚫⚫⚫⚫⚫⚫⚫⚫⚫⚫⚫⚫⚫⚫⚫⚫⚫⚫\n",
      "\r",
      "⚫⚫🟡🟡⚫⚫⚫⚫⚫⚫⚫⚫⚫⚫⚫⚫⚫⚫⚫⚫⚫⚫⚫⚫⚫\n",
      "\r",
      "⚫⚫🟡🟡⚫⚫⚫⚫⚫⚫⚫⚫⚫⚫⚫⚫⚫⚫⚫⚫⚫⚫⚫⚫⚫\n",
      "\r",
      "⚫⚫⚫⚫⚫⚫⚫⚫⚫⚫⚫⚫⚫⚫⚫⚫⚫⚫⚫⚫⚫⚫⚫⚫⚫\n",
      "\r",
      "⚫⚫⚫⚫⚫⚫⚫⚫⚫⚫⚫⚫⚫⚫⚫⚫⚫⚫⚫⚫⚫⚫🟡⚫⚫\n",
      "\r",
      " "
     ]
    }
   ],
   "source": [
    "steps = 50\n",
    "cell = conway.Cell(shape=(20, 25), probe=7)\n",
    "for step in range(steps):\n",
    "    stats = cell.forward()\n",
    "    conway.render_jupyter(\n",
    "        cell,\n",
    "        step,\n",
    "        stats,\n",
    "        state='hidden',\n",
    "        cellcolor='cy',\n",
    "        gridcolor='cb',\n",
    "    )\n",
    "    conway.fps(29)"
   ]
  },
  {
   "cell_type": "code",
   "execution_count": 43,
   "metadata": {},
   "outputs": [
    {
     "name": "stdout",
     "output_type": "stream",
     "text": [
      "CellBatch(batch_size=2)\n"
     ]
    }
   ],
   "source": [
    "batch = conway.CellBatch([\n",
    "    conway.Cell(shape=(14, 17), probe=3),\n",
    "    conway.Cell(shape=(15, 20), probe=1)\n",
    "])\n",
    "print(batch)"
   ]
  },
  {
   "cell_type": "code",
   "execution_count": 44,
   "metadata": {},
   "outputs": [
    {
     "data": {
      "text/plain": [
       "[Cell(shape=(14, 17)), Cell(shape=(15, 20))]"
      ]
     },
     "execution_count": 44,
     "metadata": {},
     "output_type": "execute_result"
    }
   ],
   "source": [
    "list(batch)"
   ]
  },
  {
   "cell_type": "code",
   "execution_count": 45,
   "metadata": {},
   "outputs": [
    {
     "name": "stdout",
     "output_type": "stream",
     "text": [
      "cell_0 (14, 17) [0, 0, 0, 0, 0, 0, 0, 0, 0, 0, 0, 0, 0, 0, 0, 0, 0]\n",
      "cell_1 (15, 20) [0, 0, 0, 0, 0, 0, 0, 0, 0, 0, 0, 0, 0, 0, 0, 0, 0, 0, 0, 0]\n"
     ]
    }
   ],
   "source": [
    "for C in batch:\n",
    "    print(C.id, C.shape, C.hidden[0])"
   ]
  },
  {
   "cell_type": "code",
   "execution_count": 46,
   "metadata": {},
   "outputs": [
    {
     "name": "stdout",
     "output_type": "stream",
     "text": [
      "steps: 59, born: 22, killed: 194, survived: 84\n",
      "\r",
      "⚫⚫⚫⚫⚫🔴🔴🔴⚫⚫⚫🔴🔴🔴⚫⚫⚫⚫⚫⚫\n",
      "\r",
      "⚫⚫⚫⚫⚫🔴🔴🔴⚫⚫⚫🔴🔴🔴⚫⚫⚫⚫⚫⚫\n",
      "\r",
      "⚫⚫⚫⚫⚫⚫🔴🔴⚫⚫⚫🔴🔴⚫⚫⚫⚫⚫⚫⚫\n",
      "\r",
      "🔴🔴⚫⚫⚫⚫⚫🔴🔴🔴🔴🔴⚫⚫⚫⚫⚫⚫⚫⚫\n",
      "\r",
      "🔴🔴⚫⚫⚫⚫⚫⚫🔴🔴🔴⚫⚫⚫⚫⚫⚫⚫⚫⚫\n",
      "\r",
      "⚫⚫⚫⚫⚫⚫⚫⚫🔴🔴🔴⚫⚫⚫⚫⚫⚫⚫⚫⚫\n",
      "\r",
      "⚫⚫⚫⚫⚫⚫⚫⚫⚫⚫⚫⚫⚫⚫⚫⚫⚫⚫⚫⚫\n",
      "\r",
      "⚫⚫⚫⚫🔴🔴⚫⚫⚫⚫⚫⚫⚫🔴🔴⚫⚫⚫⚫⚫\n",
      "\r",
      "⚫⚫⚫🔴⚫⚫🔴⚫⚫⚫⚫⚫🔴⚫⚫🔴⚫⚫⚫⚫\n",
      "\r",
      "⚫⚫⚫⚫🔴🔴⚫⚫⚫⚫⚫⚫⚫🔴🔴⚫⚫⚫⚫⚫\n",
      "\r",
      "⚫⚫⚫⚫⚫⚫⚫⚫⚫⚫⚫⚫⚫⚫⚫⚫⚫⚫⚫⚫\n",
      "\r",
      "⚫⚫⚫⚫⚫⚫⚫⚫🔴🔴🔴⚫⚫⚫⚫⚫⚫⚫⚫⚫\n",
      "\r",
      "⚫⚫⚫⚫⚫⚫⚫⚫🔴🔴🔴⚫⚫⚫⚫⚫⚫⚫⚫⚫\n",
      "\r",
      "🔴⚫⚫⚫⚫⚫⚫🔴🔴🔴🔴🔴⚫⚫⚫⚫⚫⚫⚫🔴\n",
      "\r",
      "🔴⚫⚫⚫⚫⚫🔴🔴⚫⚫⚫🔴🔴⚫⚫⚫⚫⚫⚫🔴\n",
      "\r",
      " "
     ]
    }
   ],
   "source": [
    "max_steps = 60\n",
    "for C in batch:\n",
    "    step = 0\n",
    "    while step < max_steps:\n",
    "        stats = C.forward()\n",
    "        conway.render_jupyter(C, step, stats)\n",
    "        conway.fps(10)\n",
    "        step += 1"
   ]
  },
  {
   "cell_type": "code",
   "execution_count": null,
   "metadata": {},
   "outputs": [],
   "source": []
  }
 ],
 "metadata": {
  "kernelspec": {
   "display_name": "Python 3",
   "language": "python",
   "name": "python3"
  },
  "language_info": {
   "codemirror_mode": {
    "name": "ipython",
    "version": 3
   },
   "file_extension": ".py",
   "mimetype": "text/x-python",
   "name": "python",
   "nbconvert_exporter": "python",
   "pygments_lexer": "ipython3",
   "version": "3.7.7"
  },
  "varInspector": {
   "cols": {
    "lenName": 16,
    "lenType": 16,
    "lenVar": 40
   },
   "kernels_config": {
    "python": {
     "delete_cmd_postfix": "",
     "delete_cmd_prefix": "del ",
     "library": "var_list.py",
     "varRefreshCmd": "print(var_dic_list())"
    },
    "r": {
     "delete_cmd_postfix": ") ",
     "delete_cmd_prefix": "rm(",
     "library": "var_list.r",
     "varRefreshCmd": "cat(var_dic_list()) "
    }
   },
   "types_to_exclude": [
    "module",
    "function",
    "builtin_function_or_method",
    "instance",
    "_Feature"
   ],
   "window_display": false
  }
 },
 "nbformat": 4,
 "nbformat_minor": 4
}
